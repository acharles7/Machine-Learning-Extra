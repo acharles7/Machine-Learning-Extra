{
 "cells": [
  {
   "cell_type": "code",
   "execution_count": 20,
   "metadata": {},
   "outputs": [],
   "source": [
    "import pandas as pd\n",
    "import numpy as np"
   ]
  },
  {
   "cell_type": "code",
   "execution_count": 21,
   "metadata": {},
   "outputs": [],
   "source": [
    "driver_data = pd.read_csv('/Users/lomesh/Desktop/VISION/Machine Learning/Data/driver.txt', sep = '\\t')\n",
    "data_set = driver_data[['Distance_Feature','Speeding_Feature']]\n",
    "\n",
    "X = np.array(data_set)\n",
    "\n",
    "initial_MU_3 = np.array([[93,  7],\n",
    "       [50, 34],\n",
    "       [51, 79]])"
   ]
  },
  {
   "cell_type": "code",
   "execution_count": 22,
   "metadata": {},
   "outputs": [
    {
     "name": "stdout",
     "output_type": "stream",
     "text": [
      "1141\n",
      "2849\n",
      "10\n",
      "[1 1 1 ... 0 0 0]\n"
     ]
    }
   ],
   "source": [
    "def kmeans_assignment(X, MU):\n",
    "    \"\"\"\n",
    "    Assign each instance to a cluster based on the shortest distance to all centroids. \n",
    "    Clusters are integers from 0 to K - 1.\n",
    "    \n",
    "    Args:\n",
    "        X: (n, d) NumPy array, each row is an instance of the data set\n",
    "        MU: (K, d) NumPy array, each row is the coordinate of a centroid.\n",
    "        \n",
    "    Returns:\n",
    "        c: (n, ) NumPy array, the assignment of each instance to its closest centroid.\n",
    "    \"\"\"\n",
    "    \n",
    "    # step 1: compute squared l-2 distance matrix D (n, K)\n",
    "    # the squared l2-distance between each row of X and each row of MU\n",
    "    # step 2: find the minimum value of each row of D and return its position.\n",
    "\n",
    "    x2 = np.sum(X**2, axis=1, keepdims=True)\n",
    "    y2 = np.sum(MU**2, axis=1)\n",
    "    xy = np.dot(X, MU.T)\n",
    "    \n",
    "    # calculate l-2 distance\n",
    "    dist = np.sqrt(x2 - 2*xy + y2) \n",
    "    c = np.argmin(dist, axis=1)\n",
    "    \n",
    "    print((c==0).sum())\n",
    "    print((c==1).sum())\n",
    "    print((c==2).sum())\n",
    "    \n",
    "    # minimum value of each raw of D\n",
    "    return np.argmin(dist, axis=1)\n",
    "\n",
    "print(kmeans_assignment(X, initial_MU_3))"
   ]
  },
  {
   "cell_type": "code",
   "execution_count": null,
   "metadata": {},
   "outputs": [],
   "source": []
  }
 ],
 "metadata": {
  "kernelspec": {
   "display_name": "Python 3",
   "language": "python",
   "name": "python3"
  },
  "language_info": {
   "codemirror_mode": {
    "name": "ipython",
    "version": 3
   },
   "file_extension": ".py",
   "mimetype": "text/x-python",
   "name": "python",
   "nbconvert_exporter": "python",
   "pygments_lexer": "ipython3",
   "version": "3.6.5"
  }
 },
 "nbformat": 4,
 "nbformat_minor": 2
}
