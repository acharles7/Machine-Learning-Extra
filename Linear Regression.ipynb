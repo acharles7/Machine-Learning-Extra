{
 "cells": [
  {
   "cell_type": "code",
   "execution_count": 2,
   "metadata": {},
   "outputs": [],
   "source": [
    "import tensorflow as tf\n",
    "import numpy as np\n",
    "import matplotlib.pyplot as plt"
   ]
  },
  {
   "cell_type": "markdown",
   "metadata": {},
   "source": [
    "## Linear Regression Algorithm "
   ]
  },
  {
   "cell_type": "code",
   "execution_count": 3,
   "metadata": {},
   "outputs": [],
   "source": [
    "train_x = np.asarray([3.3,4.4,5.5,6.71,6.93,4.168,9.779,6.182,7.59,2.167,\n",
    "                         7.042,10.791,5.313,7.997,5.654,9.27,3.1])\n",
    "train_y = np.asarray([1.7,2.76,2.09,3.19,1.694,1.573,3.366,2.596,2.53,1.221,\n",
    "                         2.827,3.465,1.65,2.904,2.42,2.94,1.3])"
   ]
  },
  {
   "cell_type": "code",
   "execution_count": 4,
   "metadata": {},
   "outputs": [],
   "source": [
    "learning_rate = 0.01\n",
    "epochs = 2000\n",
    "display_steps = 50\n",
    "n_sample = train_x.shape[0]"
   ]
  },
  {
   "cell_type": "code",
   "execution_count": 5,
   "metadata": {},
   "outputs": [],
   "source": [
    "X = tf.placeholder(\"float\")\n",
    "Y = tf.placeholder(\"float\")\n",
    "\n",
    "W = tf.Variable(np.random.randn(), name=\"weight\")\n",
    "b = tf.Variable(np.random.randn(), name=\"bias\")"
   ]
  },
  {
   "cell_type": "code",
   "execution_count": 7,
   "metadata": {},
   "outputs": [],
   "source": [
    "activation = tf.add(tf.multiply(X, W), b)\n",
    "cost = tf.reduce_sum(tf.pow(activation-Y, 2)) / (2*n_sample)\n",
    "optimizer = tf.train.GradientDescentOptimizer(learning_rate).minimize(cost)"
   ]
  },
  {
   "cell_type": "code",
   "execution_count": 9,
   "metadata": {},
   "outputs": [
    {
     "name": "stdout",
     "output_type": "stream",
     "text": [
      " Epoch:  50  Cost:  0.09513972  W:  0.32506093  b:  0.25855982\n",
      " Epoch:  100  Cost:  0.09303885  W:  0.32057258  b:  0.29084864\n",
      " Epoch:  150  Cost:  0.09118075  W:  0.31635112  b:  0.32121772\n",
      " Epoch:  200  Cost:  0.089537494  W:  0.3123808  b:  0.34978002\n",
      " Epoch:  250  Cost:  0.0880842  W:  0.30864653  b:  0.37664402\n",
      " Epoch:  300  Cost:  0.08679895  W:  0.3051342  b:  0.40191063\n",
      " Epoch:  350  Cost:  0.08566234  W:  0.30183107  b:  0.42567396\n",
      " Epoch:  400  Cost:  0.08465715  W:  0.2987243  b:  0.44802406\n",
      " Epoch:  450  Cost:  0.08376827  W:  0.29580215  b:  0.4690453\n",
      " Epoch:  500  Cost:  0.08298221  W:  0.29305395  b:  0.4888157\n",
      " Epoch:  550  Cost:  0.082287125  W:  0.2904693  b:  0.50740975\n",
      " Epoch:  600  Cost:  0.0816724  W:  0.28803807  b:  0.5248997\n",
      " Epoch:  650  Cost:  0.081128865  W:  0.28575164  b:  0.5413487\n",
      " Epoch:  700  Cost:  0.08064828  W:  0.28360102  b:  0.5568191\n",
      " Epoch:  750  Cost:  0.0802233  W:  0.28157842  b:  0.5713699\n",
      " Epoch:  800  Cost:  0.07984754  W:  0.2796759  b:  0.58505595\n",
      " Epoch:  850  Cost:  0.07951524  W:  0.2778866  b:  0.59792924\n",
      " Epoch:  900  Cost:  0.07922152  W:  0.27620357  b:  0.61003554\n",
      " Epoch:  950  Cost:  0.07896184  W:  0.27462107  b:  0.6214206\n",
      " Epoch:  1000  Cost:  0.078732274  W:  0.27313274  b:  0.6321277\n",
      " Epoch:  1050  Cost:  0.07852934  W:  0.27173284  b:  0.64219844\n",
      " Epoch:  1100  Cost:  0.07834995  W:  0.27041623  b:  0.6516698\n",
      " Epoch:  1150  Cost:  0.078191355  W:  0.2691779  b:  0.6605781\n",
      " Epoch:  1200  Cost:  0.078051165  W:  0.26801324  b:  0.668957\n",
      " Epoch:  1250  Cost:  0.07792724  W:  0.26691777  b:  0.6768374\n",
      " Epoch:  1300  Cost:  0.077817746  W:  0.2658875  b:  0.68424886\n",
      " Epoch:  1350  Cost:  0.07772094  W:  0.26491845  b:  0.69122046\n",
      " Epoch:  1400  Cost:  0.07763537  W:  0.26400697  b:  0.69777745\n",
      " Epoch:  1450  Cost:  0.07755978  W:  0.26314983  b:  0.7039439\n",
      " Epoch:  1500  Cost:  0.07749298  W:  0.2623436  b:  0.70974416\n",
      " Epoch:  1550  Cost:  0.07743395  W:  0.2615852  b:  0.7151994\n",
      " Epoch:  1600  Cost:  0.077381805  W:  0.26087192  b:  0.72033054\n",
      " Epoch:  1650  Cost:  0.07733572  W:  0.26020116  b:  0.7251564\n",
      " Epoch:  1700  Cost:  0.07729502  W:  0.25957024  b:  0.7296955\n",
      " Epoch:  1750  Cost:  0.07725907  W:  0.2589767  b:  0.73396486\n",
      " Epoch:  1800  Cost:  0.07722731  W:  0.25841862  b:  0.7379802\n",
      " Epoch:  1850  Cost:  0.077199265  W:  0.25789374  b:  0.74175626\n",
      " Epoch:  1900  Cost:  0.07717451  W:  0.25739986  b:  0.74530876\n",
      " Epoch:  1950  Cost:  0.07715266  W:  0.2569355  b:  0.7486492\n",
      " Epoch:  2000  Cost:  0.07713334  W:  0.2564987  b:  0.75179213\n",
      "Optimization Finished!\n",
      " Training Cost:  0.07713334  W:  0.2564987  b:  0.75179213\n"
     ]
    },
    {
     "data": {
      "image/png": "[encoded data removed]",
      "text/plain": [
       "<Figure size 432x288 with 1 Axes>"
      ]
     },
     "metadata": {},
     "output_type": "display_data"
    }
   ],
   "source": [
    "with tf.Session() as sess:\n",
    "    init = tf.global_variables_initializer()\n",
    "    sess.run(init)\n",
    "    \n",
    "    for epoch in range(epochs):\n",
    "        for (x,y) in zip(train_x, train_y):\n",
    "            sess.run(optimizer, feed_dict={X:x, Y:y})\n",
    "            \n",
    "        if (epoch + 1) % display_steps == 0:\n",
    "            c = sess.run(cost, feed_dict={X:train_x, Y:train_y})\n",
    "            print(\" Epoch: \", epoch+1, \" Cost: \", c,\" W: \", sess.run(W), \" b: \", sess.run(b))\n",
    "    print(\"Optimization Finished!\")\n",
    "    \n",
    "    training_cost = sess.run(cost, feed_dict={X:train_x, Y:train_y})\n",
    "    print(\" Training Cost: \",training_cost, \" W: \", sess.run(W), \" b: \", sess.run(b))\n",
    "    \n",
    "    plt.plot(train_x, train_y, 'ro', label='Original data')\n",
    "    plt.plot(train_x, sess.run(W)*train_x + sess.run(b), label='Fitted line')\n",
    "    plt.legend()\n",
    "    plt.show()\n",
    "    "
   ]
  },
  {
   "cell_type": "markdown",
   "metadata": {},
   "source": [
    "## Multi-feature Linear Regression"
   ]
  },
  {
   "cell_type": "code",
   "execution_count": 10,
   "metadata": {},
   "outputs": [],
   "source": [
    "def feature_normalize(features):\n",
    "    for feature in features.T:\n",
    "        fmean = np.mean(feature)\n",
    "        frange = np.amax(feature) - np.amin(feature)\n",
    "        feature -= fmean\n",
    "        feature /= frange\n",
    "    return features"
   ]
  },
  {
   "cell_type": "markdown",
   "metadata": {},
   "source": [
    "#### Hyperparameter"
   ]
  },
  {
   "cell_type": "code",
   "execution_count": 11,
   "metadata": {},
   "outputs": [],
   "source": [
    "learning_rate = 0.01\n",
    "epochs = 1000\n",
    "display_step = 50"
   ]
  },
  {
   "cell_type": "markdown",
   "metadata": {},
   "source": [
    "#### Dataset { X: [200 x 3] , Y: [200 x 1] } i.e 3 features (column)"
   ]
  },
  {
   "cell_type": "code",
   "execution_count": 12,
   "metadata": {},
   "outputs": [],
   "source": [
    "train_X = np.random.rand(200,3) * 10\n",
    "train_Y = np.random.rand(200,1) * 100  \n",
    "train_X = feature_normalize(train_X)"
   ]
  },
  {
   "cell_type": "code",
   "execution_count": 13,
   "metadata": {},
   "outputs": [],
   "source": [
    "m, n = train_X.shape\n",
    "\n",
    "X = tf.placeholder(tf.float32, [m, n])\n",
    "Y = tf.placeholder(tf.float32, [m, 1])\n",
    "\n",
    "W = tf.Variable(tf.zeros([n, 1], dtype=np.float32), name=\"weight\")\n",
    "b = tf.Variable(tf.zeros([1], dtype=np.float32), name=\"bias\")"
   ]
  },
  {
   "cell_type": "code",
   "execution_count": 14,
   "metadata": {},
   "outputs": [],
   "source": [
    "activation = tf.add(tf.matmul(X, W), b)\n",
    "cost = tf.reduce_sum(tf.square(activation - Y)) / (2*m)\n",
    "optimizer = tf.train.GradientDescentOptimizer(learning_rate).minimize(cost)"
   ]
  },
  {
   "cell_type": "code",
   "execution_count": 16,
   "metadata": {},
   "outputs": [
    {
     "name": "stdout",
     "output_type": "stream",
     "text": [
      "Epoch: 1 Cost:  1560.8756 W:  [[-0.00556136]\n",
      " [ 0.0001474 ]\n",
      " [-0.0019021 ]] b: [0.4885331]\n",
      "Epoch: 51 Cost:  819.2359 W:  [[-0.278271  ]\n",
      " [ 0.00732254]\n",
      " [-0.09552477]] b: [19.592329]\n",
      "Epoch: 101 Cost:  547.6784 W:  [[-0.5407425 ]\n",
      " [ 0.01412615]\n",
      " [-0.18629584]] b: [31.15024]\n",
      "Epoch: 151 Cost:  448.19287 W:  [[-0.79336286]\n",
      " [ 0.02057364]\n",
      " [-0.2742949 ]] b: [38.142845]\n",
      "Epoch: 201 Cost:  411.69748 W:  [[-1.0365041 ]\n",
      " [ 0.02667991]\n",
      " [-0.3595998 ]] b: [42.37342]\n",
      "Epoch: 251 Cost:  398.26437 W:  [[-1.2705249 ]\n",
      " [ 0.03245936]\n",
      " [-0.44228637]] b: [44.93295]\n",
      "Epoch: 301 Cost:  393.27826 W:  [[-1.4957693 ]\n",
      " [ 0.03792589]\n",
      " [-0.52242893]] b: [46.48146]\n",
      "Epoch: 351 Cost:  391.38885 W:  [[-1.7125683 ]\n",
      " [ 0.04309289]\n",
      " [-0.60009986]] b: [47.418335]\n",
      "Epoch: 401 Cost:  390.63773 W:  [[-1.9212404 ]\n",
      " [ 0.04797332]\n",
      " [-0.6753699 ]] b: [47.985146]\n",
      "Epoch: 451 Cost:  390.30746 W:  [[-2.1220932 ]\n",
      " [ 0.05257965]\n",
      " [-0.7483075 ]] b: [48.328056]\n",
      "Epoch: 501 Cost:  390.13525 W:  [[-2.315421  ]\n",
      " [ 0.05692393]\n",
      " [-0.8189804 ]] b: [48.535526]\n",
      "Epoch: 551 Cost:  390.0246 W:  [[-2.5015078 ]\n",
      " [ 0.06101776]\n",
      " [-0.8874539 ]] b: [48.66104]\n",
      "Epoch: 601 Cost:  389.9399 W:  [[-2.680626  ]\n",
      " [ 0.06487228]\n",
      " [-0.9537922 ]] b: [48.736984]\n",
      "Epoch: 651 Cost:  389.8679 W:  [[-2.8530397 ]\n",
      " [ 0.06849826]\n",
      " [-1.0180573 ]] b: [48.78293]\n",
      "Epoch: 701 Cost:  389.8035 W:  [[-3.0189989]\n",
      " [ 0.0719061]\n",
      " [-1.0803102]] b: [48.81073]\n",
      "Epoch: 751 Cost:  389.7446 W:  [[-3.178748  ]\n",
      " [ 0.07510574]\n",
      " [-1.1406097 ]] b: [48.82755]\n",
      "Epoch: 801 Cost:  389.69028 W:  [[-3.3325214 ]\n",
      " [ 0.07810678]\n",
      " [-1.1990135 ]] b: [48.83773]\n",
      "Epoch: 851 Cost:  389.63995 W:  [[-3.4805427 ]\n",
      " [ 0.08091847]\n",
      " [-1.2555782 ]] b: [48.84388]\n",
      "Epoch: 901 Cost:  389.59332 W:  [[-3.623031  ]\n",
      " [ 0.08354966]\n",
      " [-1.3103577 ]] b: [48.847603]\n",
      "Epoch: 951 Cost:  389.55002 W:  [[-3.760191  ]\n",
      " [ 0.08600888]\n",
      " [-1.3634053 ]] b: [48.84986]\n",
      "Training Done!\n",
      "Training Cost:  389.51065 W:  [[-3.8896334 ]\n",
      " [ 0.08825998]\n",
      " [-1.4137622 ]] b:  [48.851208] \n",
      "\n",
      "Predicted Output:  [[45.97407]]\n"
     ]
    }
   ],
   "source": [
    "with tf.Session() as sess:\n",
    "    init = tf.global_variables_initializer()\n",
    "    sess.run(init)\n",
    "\n",
    "    for step in range(epochs):\n",
    "        sess.run(optimizer, feed_dict={X: train_X, Y: train_Y})\n",
    "        \n",
    "        if step % display_step == 0:\n",
    "            c = sess.run(cost, feed_dict={X: train_X, Y: train_Y})\n",
    "            print (\"Epoch:\",step+1, \"Cost: \",c, \"W: \", sess.run(W), \"b:\", sess.run(b))\n",
    "\n",
    "    print (\"Training Done!\")\n",
    "    \n",
    "    training_cost = sess.run(cost, feed_dict={X: np.asarray(train_X), Y: np.asarray(train_Y)})\n",
    "    print(\"Training Cost: \", training_cost, \"W: \", sess.run(W), \"b: \", sess.run(b), '\\n')\n",
    "\n",
    "    predict_X = np.array([12, 13, 15], dtype=np.float32).reshape((1, 3))\n",
    "    predict_X = predict_X / np.linalg.norm(predict_X)\n",
    "    predict_Y = tf.add(tf.matmul(predict_X, W),b)\n",
    "    print (\"Predicted Output: \", sess.run(predict_Y))"
   ]
  },
  {
   "cell_type": "code",
   "execution_count": null,
   "metadata": {},
   "outputs": [],
   "source": []
  }
 ],
 "metadata": {
  "kernelspec": {
   "display_name": "Python 3",
   "language": "python",
   "name": "python3"
  },
  "language_info": {
   "codemirror_mode": {
    "name": "ipython",
    "version": 3
   },
   "file_extension": ".py",
   "mimetype": "text/x-python",
   "name": "python",
   "nbconvert_exporter": "python",
   "pygments_lexer": "ipython3",
   "version": "3.6.5"
  }
 },
 "nbformat": 4,
 "nbformat_minor": 2
}
