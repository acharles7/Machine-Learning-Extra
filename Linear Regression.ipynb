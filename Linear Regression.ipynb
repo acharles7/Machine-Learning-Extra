{
 "cells": [
  {
   "cell_type": "code",
   "execution_count": 2,
   "metadata": {},
   "outputs": [],
   "source": [
    "import tensorflow as tf\n",
    "import numpy as np\n",
    "import matplotlib.pyplot as plt"
   ]
  },
  {
   "cell_type": "markdown",
   "metadata": {},
   "source": [
    "## Linear Regression Algorithm "
   ]
  },
  {
   "cell_type": "code",
   "execution_count": 3,
   "metadata": {},
   "outputs": [],
   "source": [
    "train_x = np.asarray([3.3,4.4,5.5,6.71,6.93,4.168,9.779,6.182,7.59,2.167,\n",
    "                         7.042,10.791,5.313,7.997,5.654,9.27,3.1])\n",
    "train_y = np.asarray([1.7,2.76,2.09,3.19,1.694,1.573,3.366,2.596,2.53,1.221,\n",
    "                         2.827,3.465,1.65,2.904,2.42,2.94,1.3])"
   ]
  },
  {
   "cell_type": "code",
   "execution_count": 4,
   "metadata": {},
   "outputs": [],
   "source": [
    "learning_rate = 0.01\n",
    "epochs = 2000\n",
    "display_steps = 50\n",
    "n_sample = train_x.shape[0]"
   ]
  },
  {
   "cell_type": "code",
   "execution_count": 5,
   "metadata": {},
   "outputs": [],
   "source": [
    "X = tf.placeholder(\"float\")\n",
    "Y = tf.placeholder(\"float\")\n",
    "\n",
    "W = tf.Variable(np.random.randn(), name=\"weight\")\n",
    "b = tf.Variable(np.random.randn(), name=\"bias\")"
   ]
  },
  {
   "cell_type": "code",
   "execution_count": 6,
   "metadata": {},
   "outputs": [
    {
     "ename": "ValueError",
     "evalue": "Shape must be rank 2 but is rank 0 for 'MatMul' (op: 'MatMul') with input shapes: ?, [].",
     "output_type": "error",
     "traceback": [
      "\u001b[0;31m---------------------------------------------------------------------------\u001b[0m",
      "\u001b[0;31mInvalidArgumentError\u001b[0m                      Traceback (most recent call last)",
      "\u001b[0;32m/anaconda3/lib/python3.6/site-packages/tensorflow/python/framework/ops.py\u001b[0m in \u001b[0;36m_create_c_op\u001b[0;34m(graph, node_def, inputs, control_inputs)\u001b[0m\n\u001b[1;32m   1627\u001b[0m   \u001b[0;32mtry\u001b[0m\u001b[0;34m:\u001b[0m\u001b[0;34m\u001b[0m\u001b[0m\n\u001b[0;32m-> 1628\u001b[0;31m     \u001b[0mc_op\u001b[0m \u001b[0;34m=\u001b[0m \u001b[0mc_api\u001b[0m\u001b[0;34m.\u001b[0m\u001b[0mTF_FinishOperation\u001b[0m\u001b[0;34m(\u001b[0m\u001b[0mop_desc\u001b[0m\u001b[0;34m)\u001b[0m\u001b[0;34m\u001b[0m\u001b[0m\n\u001b[0m\u001b[1;32m   1629\u001b[0m   \u001b[0;32mexcept\u001b[0m \u001b[0merrors\u001b[0m\u001b[0;34m.\u001b[0m\u001b[0mInvalidArgumentError\u001b[0m \u001b[0;32mas\u001b[0m \u001b[0me\u001b[0m\u001b[0;34m:\u001b[0m\u001b[0;34m\u001b[0m\u001b[0m\n",
      "\u001b[0;31mInvalidArgumentError\u001b[0m: Shape must be rank 2 but is rank 0 for 'MatMul' (op: 'MatMul') with input shapes: ?, [].",
      "\nDuring handling of the above exception, another exception occurred:\n",
      "\u001b[0;31mValueError\u001b[0m                                Traceback (most recent call last)",
      "\u001b[0;32m<ipython-input-6-9d1467b13af0>\u001b[0m in \u001b[0;36m<module>\u001b[0;34m()\u001b[0m\n\u001b[0;32m----> 1\u001b[0;31m \u001b[0mactivation\u001b[0m \u001b[0;34m=\u001b[0m \u001b[0mtf\u001b[0m\u001b[0;34m.\u001b[0m\u001b[0madd\u001b[0m\u001b[0;34m(\u001b[0m\u001b[0mtf\u001b[0m\u001b[0;34m.\u001b[0m\u001b[0mmatmul\u001b[0m\u001b[0;34m(\u001b[0m\u001b[0mX\u001b[0m\u001b[0;34m,\u001b[0m \u001b[0mW\u001b[0m\u001b[0;34m)\u001b[0m\u001b[0;34m,\u001b[0m \u001b[0mb\u001b[0m\u001b[0;34m)\u001b[0m\u001b[0;34m\u001b[0m\u001b[0m\n\u001b[0m\u001b[1;32m      2\u001b[0m \u001b[0mcost\u001b[0m \u001b[0;34m=\u001b[0m \u001b[0mtf\u001b[0m\u001b[0;34m.\u001b[0m\u001b[0mreduce_sum\u001b[0m\u001b[0;34m(\u001b[0m\u001b[0mtf\u001b[0m\u001b[0;34m.\u001b[0m\u001b[0mpow\u001b[0m\u001b[0;34m(\u001b[0m\u001b[0mactivation\u001b[0m\u001b[0;34m-\u001b[0m\u001b[0mY\u001b[0m\u001b[0;34m,\u001b[0m \u001b[0;36m2\u001b[0m\u001b[0;34m)\u001b[0m\u001b[0;34m)\u001b[0m \u001b[0;34m/\u001b[0m \u001b[0;34m(\u001b[0m\u001b[0;36m2\u001b[0m\u001b[0;34m*\u001b[0m\u001b[0mn_sample\u001b[0m\u001b[0;34m)\u001b[0m\u001b[0;34m\u001b[0m\u001b[0m\n\u001b[1;32m      3\u001b[0m \u001b[0moptimizer\u001b[0m \u001b[0;34m=\u001b[0m \u001b[0mtf\u001b[0m\u001b[0;34m.\u001b[0m\u001b[0mtrain\u001b[0m\u001b[0;34m.\u001b[0m\u001b[0mGradientDescentOptimizer\u001b[0m\u001b[0;34m(\u001b[0m\u001b[0mlearning_rate\u001b[0m\u001b[0;34m)\u001b[0m\u001b[0;34m.\u001b[0m\u001b[0mminimize\u001b[0m\u001b[0;34m(\u001b[0m\u001b[0mcost\u001b[0m\u001b[0;34m)\u001b[0m\u001b[0;34m\u001b[0m\u001b[0m\n",
      "\u001b[0;32m/anaconda3/lib/python3.6/site-packages/tensorflow/python/ops/math_ops.py\u001b[0m in \u001b[0;36mmatmul\u001b[0;34m(a, b, transpose_a, transpose_b, adjoint_a, adjoint_b, a_is_sparse, b_is_sparse, name)\u001b[0m\n\u001b[1;32m   2055\u001b[0m     \u001b[0;32melse\u001b[0m\u001b[0;34m:\u001b[0m\u001b[0;34m\u001b[0m\u001b[0m\n\u001b[1;32m   2056\u001b[0m       return gen_math_ops.mat_mul(\n\u001b[0;32m-> 2057\u001b[0;31m           a, b, transpose_a=transpose_a, transpose_b=transpose_b, name=name)\n\u001b[0m\u001b[1;32m   2058\u001b[0m \u001b[0;34m\u001b[0m\u001b[0m\n\u001b[1;32m   2059\u001b[0m \u001b[0;34m\u001b[0m\u001b[0m\n",
      "\u001b[0;32m/anaconda3/lib/python3.6/site-packages/tensorflow/python/ops/gen_math_ops.py\u001b[0m in \u001b[0;36mmat_mul\u001b[0;34m(a, b, transpose_a, transpose_b, name)\u001b[0m\n\u001b[1;32m   4558\u001b[0m     _, _, _op = _op_def_lib._apply_op_helper(\n\u001b[1;32m   4559\u001b[0m         \u001b[0;34m\"MatMul\"\u001b[0m\u001b[0;34m,\u001b[0m \u001b[0ma\u001b[0m\u001b[0;34m=\u001b[0m\u001b[0ma\u001b[0m\u001b[0;34m,\u001b[0m \u001b[0mb\u001b[0m\u001b[0;34m=\u001b[0m\u001b[0mb\u001b[0m\u001b[0;34m,\u001b[0m \u001b[0mtranspose_a\u001b[0m\u001b[0;34m=\u001b[0m\u001b[0mtranspose_a\u001b[0m\u001b[0;34m,\u001b[0m \u001b[0mtranspose_b\u001b[0m\u001b[0;34m=\u001b[0m\u001b[0mtranspose_b\u001b[0m\u001b[0;34m,\u001b[0m\u001b[0;34m\u001b[0m\u001b[0m\n\u001b[0;32m-> 4560\u001b[0;31m         name=name)\n\u001b[0m\u001b[1;32m   4561\u001b[0m     \u001b[0m_result\u001b[0m \u001b[0;34m=\u001b[0m \u001b[0m_op\u001b[0m\u001b[0;34m.\u001b[0m\u001b[0moutputs\u001b[0m\u001b[0;34m[\u001b[0m\u001b[0;34m:\u001b[0m\u001b[0;34m]\u001b[0m\u001b[0;34m\u001b[0m\u001b[0m\n\u001b[1;32m   4562\u001b[0m     \u001b[0m_inputs_flat\u001b[0m \u001b[0;34m=\u001b[0m \u001b[0m_op\u001b[0m\u001b[0;34m.\u001b[0m\u001b[0minputs\u001b[0m\u001b[0;34m\u001b[0m\u001b[0m\n",
      "\u001b[0;32m/anaconda3/lib/python3.6/site-packages/tensorflow/python/framework/op_def_library.py\u001b[0m in \u001b[0;36m_apply_op_helper\u001b[0;34m(self, op_type_name, name, **keywords)\u001b[0m\n\u001b[1;32m    785\u001b[0m         op = g.create_op(op_type_name, inputs, output_types, name=scope,\n\u001b[1;32m    786\u001b[0m                          \u001b[0minput_types\u001b[0m\u001b[0;34m=\u001b[0m\u001b[0minput_types\u001b[0m\u001b[0;34m,\u001b[0m \u001b[0mattrs\u001b[0m\u001b[0;34m=\u001b[0m\u001b[0mattr_protos\u001b[0m\u001b[0;34m,\u001b[0m\u001b[0;34m\u001b[0m\u001b[0m\n\u001b[0;32m--> 787\u001b[0;31m                          op_def=op_def)\n\u001b[0m\u001b[1;32m    788\u001b[0m       \u001b[0;32mreturn\u001b[0m \u001b[0moutput_structure\u001b[0m\u001b[0;34m,\u001b[0m \u001b[0mop_def\u001b[0m\u001b[0;34m.\u001b[0m\u001b[0mis_stateful\u001b[0m\u001b[0;34m,\u001b[0m \u001b[0mop\u001b[0m\u001b[0;34m\u001b[0m\u001b[0m\n\u001b[1;32m    789\u001b[0m \u001b[0;34m\u001b[0m\u001b[0m\n",
      "\u001b[0;32m/anaconda3/lib/python3.6/site-packages/tensorflow/python/util/deprecation.py\u001b[0m in \u001b[0;36mnew_func\u001b[0;34m(*args, **kwargs)\u001b[0m\n\u001b[1;32m    486\u001b[0m                 \u001b[0;34m'in a future version'\u001b[0m \u001b[0;32mif\u001b[0m \u001b[0mdate\u001b[0m \u001b[0;32mis\u001b[0m \u001b[0;32mNone\u001b[0m \u001b[0;32melse\u001b[0m \u001b[0;34m(\u001b[0m\u001b[0;34m'after %s'\u001b[0m \u001b[0;34m%\u001b[0m \u001b[0mdate\u001b[0m\u001b[0;34m)\u001b[0m\u001b[0;34m,\u001b[0m\u001b[0;34m\u001b[0m\u001b[0m\n\u001b[1;32m    487\u001b[0m                 instructions)\n\u001b[0;32m--> 488\u001b[0;31m       \u001b[0;32mreturn\u001b[0m \u001b[0mfunc\u001b[0m\u001b[0;34m(\u001b[0m\u001b[0;34m*\u001b[0m\u001b[0margs\u001b[0m\u001b[0;34m,\u001b[0m \u001b[0;34m**\u001b[0m\u001b[0mkwargs\u001b[0m\u001b[0;34m)\u001b[0m\u001b[0;34m\u001b[0m\u001b[0m\n\u001b[0m\u001b[1;32m    489\u001b[0m     return tf_decorator.make_decorator(func, new_func, 'deprecated',\n\u001b[1;32m    490\u001b[0m                                        _add_deprecated_arg_notice_to_docstring(\n",
      "\u001b[0;32m/anaconda3/lib/python3.6/site-packages/tensorflow/python/framework/ops.py\u001b[0m in \u001b[0;36mcreate_op\u001b[0;34m(***failed resolving arguments***)\u001b[0m\n\u001b[1;32m   3272\u001b[0m           \u001b[0minput_types\u001b[0m\u001b[0;34m=\u001b[0m\u001b[0minput_types\u001b[0m\u001b[0;34m,\u001b[0m\u001b[0;34m\u001b[0m\u001b[0m\n\u001b[1;32m   3273\u001b[0m           \u001b[0moriginal_op\u001b[0m\u001b[0;34m=\u001b[0m\u001b[0mself\u001b[0m\u001b[0;34m.\u001b[0m\u001b[0m_default_original_op\u001b[0m\u001b[0;34m,\u001b[0m\u001b[0;34m\u001b[0m\u001b[0m\n\u001b[0;32m-> 3274\u001b[0;31m           op_def=op_def)\n\u001b[0m\u001b[1;32m   3275\u001b[0m       \u001b[0mself\u001b[0m\u001b[0;34m.\u001b[0m\u001b[0m_create_op_helper\u001b[0m\u001b[0;34m(\u001b[0m\u001b[0mret\u001b[0m\u001b[0;34m,\u001b[0m \u001b[0mcompute_device\u001b[0m\u001b[0;34m=\u001b[0m\u001b[0mcompute_device\u001b[0m\u001b[0;34m)\u001b[0m\u001b[0;34m\u001b[0m\u001b[0m\n\u001b[1;32m   3276\u001b[0m     \u001b[0;32mreturn\u001b[0m \u001b[0mret\u001b[0m\u001b[0;34m\u001b[0m\u001b[0m\n",
      "\u001b[0;32m/anaconda3/lib/python3.6/site-packages/tensorflow/python/framework/ops.py\u001b[0m in \u001b[0;36m__init__\u001b[0;34m(self, node_def, g, inputs, output_types, control_inputs, input_types, original_op, op_def)\u001b[0m\n\u001b[1;32m   1790\u001b[0m           op_def, inputs, node_def.attr)\n\u001b[1;32m   1791\u001b[0m       self._c_op = _create_c_op(self._graph, node_def, grouped_inputs,\n\u001b[0;32m-> 1792\u001b[0;31m                                 control_input_ops)\n\u001b[0m\u001b[1;32m   1793\u001b[0m \u001b[0;34m\u001b[0m\u001b[0m\n\u001b[1;32m   1794\u001b[0m     \u001b[0;31m# Initialize self._outputs.\u001b[0m\u001b[0;34m\u001b[0m\u001b[0;34m\u001b[0m\u001b[0m\n",
      "\u001b[0;32m/anaconda3/lib/python3.6/site-packages/tensorflow/python/framework/ops.py\u001b[0m in \u001b[0;36m_create_c_op\u001b[0;34m(graph, node_def, inputs, control_inputs)\u001b[0m\n\u001b[1;32m   1629\u001b[0m   \u001b[0;32mexcept\u001b[0m \u001b[0merrors\u001b[0m\u001b[0;34m.\u001b[0m\u001b[0mInvalidArgumentError\u001b[0m \u001b[0;32mas\u001b[0m \u001b[0me\u001b[0m\u001b[0;34m:\u001b[0m\u001b[0;34m\u001b[0m\u001b[0m\n\u001b[1;32m   1630\u001b[0m     \u001b[0;31m# Convert to ValueError for backwards compatibility.\u001b[0m\u001b[0;34m\u001b[0m\u001b[0;34m\u001b[0m\u001b[0m\n\u001b[0;32m-> 1631\u001b[0;31m     \u001b[0;32mraise\u001b[0m \u001b[0mValueError\u001b[0m\u001b[0;34m(\u001b[0m\u001b[0mstr\u001b[0m\u001b[0;34m(\u001b[0m\u001b[0me\u001b[0m\u001b[0;34m)\u001b[0m\u001b[0;34m)\u001b[0m\u001b[0;34m\u001b[0m\u001b[0m\n\u001b[0m\u001b[1;32m   1632\u001b[0m \u001b[0;34m\u001b[0m\u001b[0m\n\u001b[1;32m   1633\u001b[0m   \u001b[0;32mreturn\u001b[0m \u001b[0mc_op\u001b[0m\u001b[0;34m\u001b[0m\u001b[0m\n",
      "\u001b[0;31mValueError\u001b[0m: Shape must be rank 2 but is rank 0 for 'MatMul' (op: 'MatMul') with input shapes: ?, []."
     ]
    }
   ],
   "source": [
    "activation = tf.add(tf.matmul(X, W), b)\n",
    "cost = tf.reduce_sum(tf.pow(activation-Y, 2)) / (2*n_sample)\n",
    "optimizer = tf.train.GradientDescentOptimizer(learning_rate).minimize(cost)"
   ]
  },
  {
   "cell_type": "code",
   "execution_count": 44,
   "metadata": {},
   "outputs": [],
   "source": [
    "init = tf.global_variables_initializer()"
   ]
  },
  {
   "cell_type": "code",
   "execution_count": 45,
   "metadata": {},
   "outputs": [
    {
     "name": "stdout",
     "output_type": "stream",
     "text": [
      " Epoch:  50  Cost:  0.086239316  W:  0.3035333  b:  0.41342822\n",
      " Epoch:  100  Cost:  0.08516743  W:  0.30032527  b:  0.4365063\n",
      " Epoch:  150  Cost:  0.08421952  W:  0.29730803  b:  0.4582122\n",
      " Epoch:  200  Cost:  0.083381236  W:  0.29447016  b:  0.4786276\n",
      " Epoch:  250  Cost:  0.08263997  W:  0.29180112  b:  0.49782822\n",
      " Epoch:  300  Cost:  0.08198444  W:  0.28929088  b:  0.5158871\n",
      " Epoch:  350  Cost:  0.0814048  W:  0.28692988  b:  0.5328718\n",
      " Epoch:  400  Cost:  0.08089223  W:  0.28470927  b:  0.5488464\n",
      " Epoch:  450  Cost:  0.08043903  W:  0.28262082  b:  0.5638712\n",
      " Epoch:  500  Cost:  0.08003827  W:  0.28065637  b:  0.578003\n",
      " Epoch:  550  Cost:  0.07968395  W:  0.27880874  b:  0.5912943\n",
      " Epoch:  600  Cost:  0.07937066  W:  0.2770713  b:  0.6037941\n",
      " Epoch:  650  Cost:  0.07909368  W:  0.2754368  b:  0.61555207\n",
      " Epoch:  700  Cost:  0.078848846  W:  0.27389997  b:  0.62660825\n",
      " Epoch:  750  Cost:  0.0786324  W:  0.27245453  b:  0.63700694\n",
      " Epoch:  800  Cost:  0.07844104  W:  0.27109498  b:  0.6467868\n",
      " Epoch:  850  Cost:  0.078271896  W:  0.26981643  b:  0.6559851\n",
      " Epoch:  900  Cost:  0.07812236  W:  0.2686137  b:  0.6646369\n",
      " Epoch:  950  Cost:  0.07799017  W:  0.26748255  b:  0.67277455\n",
      " Epoch:  1000  Cost:  0.07787333  W:  0.26641867  b:  0.68042845\n",
      " Epoch:  1050  Cost:  0.07777006  W:  0.26541778  b:  0.6876282\n",
      " Epoch:  1100  Cost:  0.07767881  W:  0.2644767  b:  0.69439834\n",
      " Epoch:  1150  Cost:  0.07759816  W:  0.2635914  b:  0.70076644\n",
      " Epoch:  1200  Cost:  0.07752688  W:  0.2627589  b:  0.706756\n",
      " Epoch:  1250  Cost:  0.07746391  W:  0.26197582  b:  0.7123888\n",
      " Epoch:  1300  Cost:  0.077408254  W:  0.26123953  b:  0.7176868\n",
      " Epoch:  1350  Cost:  0.0773591  W:  0.26054668  b:  0.7226703\n",
      " Epoch:  1400  Cost:  0.07731566  W:  0.25989512  b:  0.7273577\n",
      " Epoch:  1450  Cost:  0.07727731  W:  0.25928235  b:  0.7317656\n",
      " Epoch:  1500  Cost:  0.07724343  W:  0.2587061  b:  0.7359114\n",
      " Epoch:  1550  Cost:  0.07721348  W:  0.25816402  b:  0.73981124\n",
      " Epoch:  1600  Cost:  0.07718708  W:  0.2576542  b:  0.74347866\n",
      " Epoch:  1650  Cost:  0.07716374  W:  0.25717467  b:  0.7469285\n",
      " Epoch:  1700  Cost:  0.07714314  W:  0.25672376  b:  0.7501729\n",
      " Epoch:  1750  Cost:  0.07712495  W:  0.25629944  b:  0.75322485\n",
      " Epoch:  1800  Cost:  0.07710891  W:  0.25590056  b:  0.7560947\n",
      " Epoch:  1850  Cost:  0.07709474  W:  0.25552523  b:  0.75879484\n",
      " Epoch:  1900  Cost:  0.07708223  W:  0.25517237  b:  0.7613332\n",
      " Epoch:  1950  Cost:  0.07707121  W:  0.2548404  b:  0.76372147\n",
      " Epoch:  2000  Cost:  0.077061474  W:  0.25452802  b:  0.7659683\n",
      "Optimization Finished!\n",
      " Training Cost:  0.077061474  W:  0.25452802  b:  0.7659683\n"
     ]
    },
    {
     "data": {
      "image/png": "[encoded data removed]",
      "text/plain": [
       "<Figure size 432x288 with 1 Axes>"
      ]
     },
     "metadata": {},
     "output_type": "display_data"
    }
   ],
   "source": [
    "with tf.Session() as sess:\n",
    "    sess.run(init)\n",
    "    \n",
    "    for epoch in range(epochs):\n",
    "        for (x,y) in zip(train_x, train_y):\n",
    "            sess.run(optimizer, feed_dict={X:x, Y:y})\n",
    "            \n",
    "        if (epoch + 1) % display_steps == 0:\n",
    "            c = sess.run(cost, feed_dict={X:train_x, Y:train_y})\n",
    "            print(\" Epoch: \", epoch+1, \" Cost: \", c,\" W: \", sess.run(W), \" b: \", sess.run(b))\n",
    "    print(\"Optimization Finished!\")\n",
    "    \n",
    "    training_cost = sess.run(cost, feed_dict={X:train_x, Y:train_y})\n",
    "    print(\" Training Cost: \",training_cost, \" W: \", sess.run(W), \" b: \", sess.run(b))\n",
    "    \n",
    "    plt.plot(train_x, train_y, 'ro', label='Original data')\n",
    "    plt.plot(train_x, sess.run(W)*train_x + sess.run(b), label='Fitted line')\n",
    "    plt.legend()\n",
    "    plt.show()\n",
    "    "
   ]
  },
  {
   "cell_type": "markdown",
   "metadata": {},
   "source": [
    "## Multi-feature Linear Regression"
   ]
  },
  {
   "cell_type": "code",
   "execution_count": 46,
   "metadata": {},
   "outputs": [],
   "source": [
    "def feature_normalize(features):\n",
    "    for feature in features.T:\n",
    "        fmean = np.mean(feature)\n",
    "        frange = np.amax(feature) - np.amin(feature)\n",
    "        feature -= fmean\n",
    "        feature /= frange\n",
    "    return features"
   ]
  },
  {
   "cell_type": "markdown",
   "metadata": {},
   "source": [
    "#### Hyperparameter"
   ]
  },
  {
   "cell_type": "code",
   "execution_count": null,
   "metadata": {},
   "outputs": [],
   "source": [
    "learning_rate = 0.01\n",
    "epochs = 1000\n",
    "display_step = 50"
   ]
  },
  {
   "cell_type": "markdown",
   "metadata": {},
   "source": [
    "#### Dataset { X: [200 x 3] , Y: [200 x 1] } i.e 3 features (column)"
   ]
  },
  {
   "cell_type": "code",
   "execution_count": 48,
   "metadata": {},
   "outputs": [],
   "source": [
    "train_X = np.random.rand(200,3) * 10\n",
    "train_Y = np.random.rand(200,1) * 100  \n",
    "train_X = feature_normalize(train_X)"
   ]
  },
  {
   "cell_type": "code",
   "execution_count": 49,
   "metadata": {},
   "outputs": [],
   "source": [
    "m, n = train_X.shape\n",
    "X = tf.placeholder(tf.float32, [m, n])\n",
    "Y = tf.placeholder(tf.float32, [m, 1])\n",
    "\n",
    "W = tf.Variable(tf.zeros([n, 1], dtype=np.float32), name=\"weight\")\n",
    "b = tf.Variable(tf.zeros([1], dtype=np.float32), name=\"bias\")"
   ]
  },
  {
   "cell_type": "code",
   "execution_count": 50,
   "metadata": {},
   "outputs": [],
   "source": [
    "activation = tf.add(tf.matmul(X, W), b)\n",
    "cost = tf.reduce_sum(tf.square(activation - Y)) / (2*m)\n",
    "optimizer = tf.train.GradientDescentOptimizer(learning_rate).minimize(cost)"
   ]
  },
  {
   "cell_type": "code",
   "execution_count": 51,
   "metadata": {},
   "outputs": [
    {
     "name": "stdout",
     "output_type": "stream",
     "text": [
      "Epoch: 1 Cost:  1544.0973 W:  [[ 0.00084892]\n",
      " [ 0.00679227]\n",
      " [-0.00376629]] b: [0.47872946]\n",
      "Epoch: 51 Cost:  831.7934 W:  [[ 0.04192256]\n",
      " [ 0.3387207 ]\n",
      " [-0.18726902]] b: [19.19916]\n",
      "Epoch: 101 Cost:  570.9086 W:  [[ 0.08041191]\n",
      " [ 0.65603167]\n",
      " [-0.3616499 ]] b: [30.525135]\n",
      "Epoch: 151 Cost:  475.27194 W:  [[ 0.11646861]\n",
      " [ 0.9593734 ]\n",
      " [-0.5273563 ]] b: [37.37741]\n",
      "Epoch: 201 Cost:  440.13422 W:  [[ 0.15023579]\n",
      " [ 1.2493653 ]\n",
      " [-0.6848141 ]] b: [41.523087]\n",
      "Epoch: 251 Cost:  427.1527 W:  [[ 0.18184863]\n",
      " [ 1.526599  ]\n",
      " [-0.83442885]] b: [44.031246]\n",
      "Epoch: 301 Cost:  422.29187 W:  [[ 0.21143463]\n",
      " [ 1.7916403 ]\n",
      " [-0.97658557]] b: [45.54869]\n",
      "Epoch: 351 Cost:  420.41312 W:  [[ 0.23911406]\n",
      " [ 2.045029  ]\n",
      " [-1.1116512 ]] b: [46.466747]\n",
      "Epoch: 401 Cost:  419.63467 W:  [[ 0.26500055]\n",
      " [ 2.287281  ]\n",
      " [-1.2399747 ]] b: [47.022182]\n",
      "Epoch: 451 Cost:  419.26715 W:  [[ 0.2892012]\n",
      " [ 2.518889 ]\n",
      " [-1.3618872]] b: [47.358234]\n",
      "Epoch: 501 Cost:  419.05725 W:  [[ 0.311817 ]\n",
      " [ 2.7403245]\n",
      " [-1.4777045]] b: [47.561546]\n",
      "Epoch: 551 Cost:  418.91177 W:  [[ 0.33294332]\n",
      " [ 2.9520369 ]\n",
      " [-1.587727  ]] b: [47.684547]\n",
      "Epoch: 601 Cost:  418.79602 W:  [[ 0.35266992]\n",
      " [ 3.1544569 ]\n",
      " [-1.6922407 ]] b: [47.758965]\n",
      "Epoch: 651 Cost:  418.69662 W:  [[ 0.3710816]\n",
      " [ 3.3479955]\n",
      " [-1.7915163]] b: [47.803986]\n",
      "Epoch: 701 Cost:  418.6083 W:  [[ 0.38825834]\n",
      " [ 3.5330462 ]\n",
      " [-1.8858123 ]] b: [47.831215]\n",
      "Epoch: 751 Cost:  418.5286 W:  [[ 0.4042754]\n",
      " [ 3.709982 ]\n",
      " [-1.9753752]] b: [47.847694]\n",
      "Epoch: 801 Cost:  418.45624 W:  [[ 0.41920382]\n",
      " [ 3.879162  ]\n",
      " [-2.0604389 ]] b: [47.85767]\n",
      "Epoch: 851 Cost:  418.39038 W:  [[ 0.4331104]\n",
      " [ 4.0409293]\n",
      " [-2.1412258]] b: [47.863697]\n",
      "Epoch: 901 Cost:  418.3304 W:  [[ 0.44605833]\n",
      " [ 4.1956105 ]\n",
      " [-2.2179458 ]] b: [47.867348]\n",
      "Epoch: 951 Cost:  418.27576 W:  [[ 0.4581069]\n",
      " [ 4.3435187]\n",
      " [-2.2908006]] b: [47.86956]\n",
      "Optimization Finished!\n",
      "Training Cost:  418.2269 W:  [[ 0.46909598]\n",
      " [ 4.482185  ]\n",
      " [-2.3586338 ]] b:  [47.87088] \n",
      "\n",
      "Predicted Output:  [[49.10038]]\n"
     ]
    }
   ],
   "source": [
    "with tf.Session() as sess:\n",
    "    init = tf.initialize_all_variables()\n",
    "    sess.run(init)\n",
    "\n",
    "    for step in range(epochs):\n",
    "        sess.run(optimizer, feed_dict={X: train_X, Y: train_Y})\n",
    "\n",
    "        if step % display_step == 0:\n",
    "            c = sess.run(cost, feed_dict={X: train_X, Y: train_Y})\n",
    "            print (\"Epoch:\",step+1, \"Cost: \",c, \"W: \", sess.run(W), \"b:\", sess.run(b))\n",
    "\n",
    "    print (\"Training Done!\")\n",
    "    training_cost = sess.run(cost, feed_dict={X: np.asarray(train_X), Y: np.asarray(train_Y)})\n",
    "    print(\"Training Cost: \", training_cost, \"W: \", sess.run(W), \"b: \", sess.run(b), '\\n')\n",
    "\n",
    "\n",
    "    predict_X = np.array([12, 13, 15], dtype=np.float32).reshape((1, 3))\n",
    "    predict_X = predict_X / np.linalg.norm(predict_X)\n",
    "    predict_Y = tf.add(tf.matmul(predict_X, W),b)\n",
    "    print (\"Predicted Output: \", sess.run(predict_Y))\n"
   ]
  }
 ],
 "metadata": {
  "kernelspec": {
   "display_name": "Python 3",
   "language": "python",
   "name": "python3"
  },
  "language_info": {
   "codemirror_mode": {
    "name": "ipython",
    "version": 3
   },
   "file_extension": ".py",
   "mimetype": "text/x-python",
   "name": "python",
   "nbconvert_exporter": "python",
   "pygments_lexer": "ipython3",
   "version": "3.6.5"
  }
 },
 "nbformat": 4,
 "nbformat_minor": 2
}
