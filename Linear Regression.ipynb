{
 "cells": [
  {
   "cell_type": "code",
   "execution_count": 17,
   "metadata": {},
   "outputs": [],
   "source": [
    "import tensorflow as tf\n",
    "import numpy as np\n",
    "import matplotlib.pyplot as plt"
   ]
  },
  {
   "cell_type": "markdown",
   "metadata": {},
   "source": [
    "## Linear Regression Algorithm "
   ]
  },
  {
   "cell_type": "code",
   "execution_count": 18,
   "metadata": {},
   "outputs": [],
   "source": [
    "train_x = np.asarray([3.3,4.4,5.5,6.71,6.93,4.168,9.779,6.182,7.59,2.167,\n",
    "                         7.042,10.791,5.313,7.997,5.654,9.27,3.1])\n",
    "train_y = np.asarray([1.7,2.76,2.09,3.19,1.694,1.573,3.366,2.596,2.53,1.221,\n",
    "                         2.827,3.465,1.65,2.904,2.42,2.94,1.3])"
   ]
  },
  {
   "cell_type": "code",
   "execution_count": 19,
   "metadata": {},
   "outputs": [],
   "source": [
    "learning_rate = 0.01\n",
    "epochs = 2000\n",
    "display_steps = 50\n",
    "n_sample = train_x.shape[0]"
   ]
  },
  {
   "cell_type": "code",
   "execution_count": 20,
   "metadata": {},
   "outputs": [],
   "source": [
    "X = tf.placeholder(\"float\")\n",
    "Y = tf.placeholder(\"float\")\n",
    "\n",
    "W = tf.Variable(np.random.randn(), name=\"weight\")\n",
    "b = tf.Variable(np.random.randn(), name=\"bias\")"
   ]
  },
  {
   "cell_type": "code",
   "execution_count": 21,
   "metadata": {},
   "outputs": [],
   "source": [
    "activation = tf.add(tf.multiply(X, W), b)\n",
    "cost = tf.reduce_sum(tf.pow(activation-Y, 2)) / (2*n_sample)\n",
    "optimizer = tf.train.GradientDescentOptimizer(learning_rate).minimize(cost)"
   ]
  },
  {
   "cell_type": "code",
   "execution_count": 22,
   "metadata": {},
   "outputs": [
    {
     "name": "stdout",
     "output_type": "stream",
     "text": [
      " Epoch:  50  Cost:  0.0945226  W:  0.32377073  b:  0.26784113\n",
      " Epoch:  100  Cost:  0.092493005  W:  0.31935903  b:  0.29957876\n",
      " Epoch:  150  Cost:  0.09069801  W:  0.31520978  b:  0.3294284\n",
      " Epoch:  200  Cost:  0.08911057  W:  0.31130728  b:  0.3575025\n",
      " Epoch:  250  Cost:  0.08770663  W:  0.3076369  b:  0.3839074\n",
      " Epoch:  300  Cost:  0.08646506  W:  0.30418473  b:  0.40874165\n",
      " Epoch:  350  Cost:  0.08536707  W:  0.30093795  b:  0.43209857\n",
      " Epoch:  400  Cost:  0.08439601  W:  0.2978842  b:  0.45406705\n",
      " Epoch:  450  Cost:  0.083537325  W:  0.29501203  b:  0.47472918\n",
      " Epoch:  500  Cost:  0.08277798  W:  0.29231086  b:  0.49416122\n",
      " Epoch:  550  Cost:  0.082106516  W:  0.28977028  b:  0.5124379\n",
      " Epoch:  600  Cost:  0.08151277  W:  0.28738093  b:  0.52962697\n",
      " Epoch:  650  Cost:  0.08098772  W:  0.28513357  b:  0.54579467\n",
      " Epoch:  700  Cost:  0.08052343  W:  0.28301972  b:  0.5610011\n",
      " Epoch:  750  Cost:  0.08011291  W:  0.28103152  b:  0.5753036\n",
      " Epoch:  800  Cost:  0.07974991  W:  0.27916163  b:  0.5887562\n",
      " Epoch:  850  Cost:  0.07942896  W:  0.27740285  b:  0.60140914\n",
      " Epoch:  900  Cost:  0.07914523  W:  0.2757487  b:  0.61330837\n",
      " Epoch:  950  Cost:  0.07889443  W:  0.27419335  b:  0.6244975\n",
      " Epoch:  1000  Cost:  0.078672685  W:  0.2727304  b:  0.6350217\n",
      " Epoch:  1050  Cost:  0.07847664  W:  0.2713546  b:  0.6449198\n",
      " Epoch:  1100  Cost:  0.07830336  W:  0.27006042  b:  0.6542294\n",
      " Epoch:  1150  Cost:  0.07815019  W:  0.26884326  b:  0.6629854\n",
      " Epoch:  1200  Cost:  0.07801478  W:  0.2676985  b:  0.67122126\n",
      " Epoch:  1250  Cost:  0.07789508  W:  0.26662174  b:  0.6789675\n",
      " Epoch:  1300  Cost:  0.07778931  W:  0.265609  b:  0.68625253\n",
      " Epoch:  1350  Cost:  0.077695794  W:  0.26465654  b:  0.69310474\n",
      " Epoch:  1400  Cost:  0.07761318  W:  0.26376066  b:  0.6995494\n",
      " Epoch:  1450  Cost:  0.077540144  W:  0.26291823  b:  0.7056108\n",
      " Epoch:  1500  Cost:  0.07747564  W:  0.26212564  b:  0.7113116\n",
      " Epoch:  1550  Cost:  0.07741863  W:  0.2613803  b:  0.71667385\n",
      " Epoch:  1600  Cost:  0.077368274  W:  0.26067916  b:  0.7217174\n",
      " Epoch:  1650  Cost:  0.07732376  W:  0.26001975  b:  0.7264615\n",
      " Epoch:  1700  Cost:  0.07728445  W:  0.25939956  b:  0.73092306\n",
      " Epoch:  1750  Cost:  0.07724973  W:  0.25881633  b:  0.7351188\n",
      " Epoch:  1800  Cost:  0.07721908  W:  0.2582677  b:  0.73906577\n",
      " Epoch:  1850  Cost:  0.077192  W:  0.25775176  b:  0.7427771\n",
      " Epoch:  1900  Cost:  0.07716809  W:  0.25726625  b:  0.74626905\n",
      " Epoch:  1950  Cost:  0.07714696  W:  0.25681  b:  0.7495523\n",
      " Epoch:  2000  Cost:  0.077128336  W:  0.25638065  b:  0.7526417\n",
      "Optimization Finished!\n",
      " Training Cost:  0.077128336  W:  0.25638065  b:  0.7526417\n"
     ]
    },
    {
     "data": {
      "image/png": "[encoded data removed]",
      "text/plain": [
       "<Figure size 432x288 with 1 Axes>"
      ]
     },
     "metadata": {},
     "output_type": "display_data"
    }
   ],
   "source": [
    "with tf.Session() as sess:\n",
    "    init = tf.global_variables_initializer()\n",
    "    sess.run(init)\n",
    "    \n",
    "    for epoch in range(epochs):\n",
    "        for (x,y) in zip(train_x, train_y):\n",
    "            sess.run(optimizer, feed_dict={X:x, Y:y})\n",
    "            \n",
    "        if (epoch + 1) % display_steps == 0:\n",
    "            c = sess.run(cost, feed_dict={X:train_x, Y:train_y})\n",
    "            print(\" Epoch: \", epoch+1, \" Cost: \", c,\" W: \", sess.run(W), \" b: \", sess.run(b))\n",
    "    print(\"Optimization Finished!\")\n",
    "    \n",
    "    training_cost = sess.run(cost, feed_dict={X:train_x, Y:train_y})\n",
    "    print(\" Training Cost: \",training_cost, \" W: \", sess.run(W), \" b: \", sess.run(b))\n",
    "    \n",
    "    plt.plot(train_x, train_y, 'ro', label='Original data')\n",
    "    plt.plot(train_x, sess.run(W)*train_x + sess.run(b), label='Fitted line')\n",
    "    plt.legend()\n",
    "    plt.show()\n",
    "    "
   ]
  },
  {
   "cell_type": "markdown",
   "metadata": {},
   "source": [
    "## Multi-feature Linear Regression"
   ]
  },
  {
   "cell_type": "code",
   "execution_count": 23,
   "metadata": {},
   "outputs": [],
   "source": [
    "def feature_normalize(features):\n",
    "    for feature in features.T:\n",
    "        fmean = np.mean(feature)\n",
    "        frange = np.amax(feature) - np.amin(feature)\n",
    "        feature -= fmean\n",
    "        feature /= frange\n",
    "    return features"
   ]
  },
  {
   "cell_type": "markdown",
   "metadata": {},
   "source": [
    "#### Hyperparameter"
   ]
  },
  {
   "cell_type": "code",
   "execution_count": 24,
   "metadata": {},
   "outputs": [],
   "source": [
    "learning_rate = 0.01\n",
    "epochs = 1000\n",
    "display_step = 50"
   ]
  },
  {
   "cell_type": "markdown",
   "metadata": {},
   "source": [
    "#### Dataset { X: [200 x 3] , Y: [200 x 1] } i.e 3 features (column)"
   ]
  },
  {
   "cell_type": "code",
   "execution_count": 25,
   "metadata": {},
   "outputs": [],
   "source": [
    "train_X = np.random.rand(200,3) * 10\n",
    "train_Y = np.random.rand(200,1) * 100  \n",
    "train_X = feature_normalize(train_X)"
   ]
  },
  {
   "cell_type": "code",
   "execution_count": 26,
   "metadata": {},
   "outputs": [],
   "source": [
    "m, n = train_X.shape\n",
    "\n",
    "X = tf.placeholder(tf.float32, [m, n])\n",
    "Y = tf.placeholder(tf.float32, [m, 1])\n",
    "\n",
    "W = tf.Variable(tf.zeros([n, 1], dtype=np.float32), name=\"weight\")\n",
    "b = tf.Variable(tf.zeros([1], dtype=np.float32), name=\"bias\")"
   ]
  },
  {
   "cell_type": "code",
   "execution_count": 27,
   "metadata": {},
   "outputs": [],
   "source": [
    "activation = tf.add(tf.matmul(X, W), b)\n",
    "cost = tf.reduce_sum(tf.square(activation - Y)) / (2*m)\n",
    "optimizer = tf.train.GradientDescentOptimizer(learning_rate).minimize(cost)"
   ]
  },
  {
   "cell_type": "code",
   "execution_count": 28,
   "metadata": {},
   "outputs": [
    {
     "name": "stdout",
     "output_type": "stream",
     "text": [
      "Epoch: 1 Cost:  1784.1437 W:  [[-0.00400922]\n",
      " [ 0.00332063]\n",
      " [-0.00168938]] b: [0.5267377]\n",
      "Epoch: 51 Cost:  922.02203 W:  [[-0.2002712 ]\n",
      " [ 0.16590033]\n",
      " [-0.08440978]] b: [21.1245]\n",
      "Epoch: 101 Cost:  606.3782 W:  [[-0.38852635]\n",
      " [ 0.3218969 ]\n",
      " [-0.16379535]] b: [33.58626]\n",
      "Epoch: 151 Cost:  490.76904 W:  [[-0.5691015 ]\n",
      " [ 0.47157714]\n",
      " [-0.23998055]] b: [41.1257]\n",
      "Epoch: 201 Cost:  448.38483 W:  [[-0.7423097 ]\n",
      " [ 0.6151965 ]\n",
      " [-0.31309438]] b: [45.68712]\n",
      "Epoch: 251 Cost:  432.8088 W:  [[-0.90845144]\n",
      " [ 0.75300056]\n",
      " [-0.3832606 ]] b: [48.4468]\n",
      "Epoch: 301 Cost:  427.0503 W:  [[-1.0678151 ]\n",
      " [ 0.88522506]\n",
      " [-0.45059797]] b: [50.116432]\n",
      "Epoch: 351 Cost:  424.89 W:  [[-1.220677  ]\n",
      " [ 1.0120958 ]\n",
      " [-0.51522064]] b: [51.126564]\n",
      "Epoch: 401 Cost:  424.0509 W:  [[-1.3673027 ]\n",
      " [ 1.1338292 ]\n",
      " [-0.57723796]] b: [51.73769]\n",
      "Epoch: 451 Cost:  423.69922 W:  [[-1.5079467 ]\n",
      " [ 1.2506341 ]\n",
      " [-0.63675505]] b: [52.107433]\n",
      "Epoch: 501 Cost:  423.5295 W:  [[-1.6428529]\n",
      " [ 1.3627093]\n",
      " [-0.6938727]] b: [52.331127]\n",
      "Epoch: 551 Cost:  423.42972 W:  [[-1.7722547]\n",
      " [ 1.470247 ]\n",
      " [-0.7486874]] b: [52.466473]\n",
      "Epoch: 601 Cost:  423.35846 W:  [[-1.8963772 ]\n",
      " [ 1.5734303 ]\n",
      " [-0.80129236]] b: [52.548344]\n",
      "Epoch: 651 Cost:  423.30045 W:  [[-2.0154357 ]\n",
      " [ 1.6724359 ]\n",
      " [-0.85177624]] b: [52.597885]\n",
      "Epoch: 701 Cost:  423.2498 W:  [[-2.1296363]\n",
      " [ 1.767433 ]\n",
      " [-0.9002249]] b: [52.62786]\n",
      "Epoch: 751 Cost:  423.20422 W:  [[-2.2391787]\n",
      " [ 1.8585838]\n",
      " [-0.9467203]] b: [52.645996]\n",
      "Epoch: 801 Cost:  423.16257 W:  [[-2.344252  ]\n",
      " [ 1.9460447 ]\n",
      " [-0.99134105]] b: [52.656967]\n",
      "Epoch: 851 Cost:  423.12445 W:  [[-2.4450376]\n",
      " [ 2.029964 ]\n",
      " [-1.0341626]] b: [52.663605]\n",
      "Epoch: 901 Cost:  423.08945 W:  [[-2.5417116]\n",
      " [ 2.110486 ]\n",
      " [-1.0752579]] b: [52.66762]\n",
      "Epoch: 951 Cost:  423.0572 W:  [[-2.6344414]\n",
      " [ 2.1877472]\n",
      " [-1.1146963]] b: [52.670048]\n",
      "Training Done!\n",
      "Training Cost:  423.02805 W:  [[-2.7216454]\n",
      " [ 2.2604277]\n",
      " [-1.151803 ]] b:  [52.671494] \n",
      "\n",
      "Predicted Output:  [[51.785465]]\n"
     ]
    }
   ],
   "source": [
    "with tf.Session() as sess:\n",
    "    init = tf.global_variables_initializer()\n",
    "    sess.run(init)\n",
    "\n",
    "    for step in range(epochs):\n",
    "        sess.run(optimizer, feed_dict={X: train_X, Y: train_Y})\n",
    "        \n",
    "        if step % display_step == 0:\n",
    "            c = sess.run(cost, feed_dict={X: train_X, Y: train_Y})\n",
    "            print (\"Epoch:\",step+1, \"Cost: \",c, \"W: \", sess.run(W), \"b:\", sess.run(b))\n",
    "\n",
    "    print (\"Training Done!\")\n",
    "    \n",
    "    training_cost = sess.run(cost, feed_dict={X: np.asarray(train_X), Y: np.asarray(train_Y)})\n",
    "    print(\"Training Cost: \", training_cost, \"W: \", sess.run(W), \"b: \", sess.run(b), '\\n')\n",
    "\n",
    "    predict_X = np.array([12, 13, 15], dtype=np.float32).reshape((1, 3))\n",
    "    predict_X = predict_X / np.linalg.norm(predict_X)\n",
    "    predict_Y = tf.add(tf.matmul(predict_X, W),b)\n",
    "    print (\"Predicted Output: \", sess.run(predict_Y))"
   ]
  },
  {
   "cell_type": "code",
   "execution_count": null,
   "metadata": {},
   "outputs": [],
   "source": []
  }
 ],
 "metadata": {
  "kernelspec": {
   "display_name": "Python 3",
   "language": "python",
   "name": "python3"
  },
  "language_info": {
   "codemirror_mode": {
    "name": "ipython",
    "version": 3
   },
   "file_extension": ".py",
   "mimetype": "text/x-python",
   "name": "python",
   "nbconvert_exporter": "python",
   "pygments_lexer": "ipython3",
   "version": "3.6.5"
  }
 },
 "nbformat": 4,
 "nbformat_minor": 2
}
