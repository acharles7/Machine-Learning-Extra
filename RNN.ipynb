{
 "cells": [
  {
   "cell_type": "code",
   "execution_count": 1,
   "metadata": {},
   "outputs": [],
   "source": [
    "import numpy as np"
   ]
  },
  {
   "cell_type": "markdown",
   "metadata": {},
   "source": [
    "### Data I/O"
   ]
  },
  {
   "cell_type": "code",
   "execution_count": 58,
   "metadata": {},
   "outputs": [
    {
     "name": "stdout",
     "output_type": "stream",
     "text": [
      "['U', 'F', 'h', 'n', 'z', '$', 'O', 'Q', 'Y', 'I', 's', 'c', 'K', 'G', 'H', '.', 'e', \"'\", 'P', ',', 'v', 'Z', 'X', 'M', ':', 'f', 'A', 'd', 'J', '3', 'u', 'y', 'B', 'm', 'i', 'j', 'x', 'o', '-', 'l', 'D', 't', 'N', 'V', 'T', '!', '[', 'w', 'C', 'S', '&', 'E', ' ', 'k', 'g', 'r', 'L', 'a', 'W', '?', 'R', 'b', ';', '\\n', 'q', 'p', ']']\n",
      "4573338\n"
     ]
    },
    {
     "data": {
      "text/plain": [
       "{'U': 0,\n",
       " 'F': 1,\n",
       " 'h': 2,\n",
       " 'n': 3,\n",
       " 'z': 4,\n",
       " '$': 5,\n",
       " 'O': 6,\n",
       " 'Q': 7,\n",
       " 'Y': 8,\n",
       " 'I': 9,\n",
       " 's': 10,\n",
       " 'c': 11,\n",
       " 'K': 12,\n",
       " 'G': 13,\n",
       " 'H': 14,\n",
       " '.': 15,\n",
       " 'e': 16,\n",
       " \"'\": 17,\n",
       " 'P': 18,\n",
       " ',': 19,\n",
       " 'v': 20,\n",
       " 'Z': 21,\n",
       " 'X': 22,\n",
       " 'M': 23,\n",
       " ':': 24,\n",
       " 'f': 25,\n",
       " 'A': 26,\n",
       " 'd': 27,\n",
       " 'J': 28,\n",
       " '3': 29,\n",
       " 'u': 30,\n",
       " 'y': 31,\n",
       " 'B': 32,\n",
       " 'm': 33,\n",
       " 'i': 34,\n",
       " 'j': 35,\n",
       " 'x': 36,\n",
       " 'o': 37,\n",
       " '-': 38,\n",
       " 'l': 39,\n",
       " 'D': 40,\n",
       " 't': 41,\n",
       " 'N': 42,\n",
       " 'V': 43,\n",
       " 'T': 44,\n",
       " '!': 45,\n",
       " '[': 46,\n",
       " 'w': 47,\n",
       " 'C': 48,\n",
       " 'S': 49,\n",
       " '&': 50,\n",
       " 'E': 51,\n",
       " ' ': 52,\n",
       " 'k': 53,\n",
       " 'g': 54,\n",
       " 'r': 55,\n",
       " 'L': 56,\n",
       " 'a': 57,\n",
       " 'W': 58,\n",
       " '?': 59,\n",
       " 'R': 60,\n",
       " 'b': 61,\n",
       " ';': 62,\n",
       " '\\n': 63,\n",
       " 'q': 64,\n",
       " 'p': 65,\n",
       " ']': 66}"
      ]
     },
     "execution_count": 58,
     "metadata": {},
     "output_type": "execute_result"
    }
   ],
   "source": [
    "data = open(\"shakespeare.txt\", \"r\").read()\n",
    "chars = list(set(text))\n",
    "print(chars)\n",
    "print(len(data))\n",
    "data_size, vocab_size = len(data), len(chars)\n",
    "char_to_ix = {ch:i for i, ch in enumerate(char)}\n",
    "ix_to_char = {i:ch for i, ch in enumerate(char)}\n",
    "char_to_ix"
   ]
  },
  {
   "cell_type": "markdown",
   "metadata": {},
   "source": [
    "### Hyperparameter"
   ]
  },
  {
   "cell_type": "code",
   "execution_count": 59,
   "metadata": {},
   "outputs": [],
   "source": [
    "hidden_size = 100\n",
    "seq_length = 25\n",
    "learning_rate = 1e-1"
   ]
  },
  {
   "cell_type": "markdown",
   "metadata": {},
   "source": [
    "### Model Parameter"
   ]
  },
  {
   "cell_type": "code",
   "execution_count": 60,
   "metadata": {},
   "outputs": [],
   "source": [
    "Wxh = np.random.randn(hidden_size, vocab_size) * 0.01\n",
    "Whh = np.random.randn(hidden_size, hidden_size) * 0.01\n",
    "Why = np.random.randn(vocab_size, hidden_size) * 0.01\n",
    "bh = np.zeros((hidden_size, 1))\n",
    "by = np.zeros((vocab_size, 1))"
   ]
  },
  {
   "cell_type": "code",
   "execution_count": 63,
   "metadata": {},
   "outputs": [
    {
     "name": "stdout",
     "output_type": "stream",
     "text": [
      "First Citizen:\n",
      "Before we \n",
      "irst Citizen:\n",
      "Before we p\n",
      "[1, 34, 55, 10, 41, 52, 48, 34, 41, 34, 4, 16, 3, 24, 63, 32, 16, 25, 37, 55, 16, 52, 47, 16, 52]\n",
      "[34, 55, 10, 41, 52, 48, 34, 41, 34, 4, 16, 3, 24, 63, 32, 16, 25, 37, 55, 16, 52, 47, 16, 52, 65]\n"
     ]
    }
   ],
   "source": [
    "p = 0\n",
    "print(data[p:p+seq_length])\n",
    "print(data[p+1:p+seq_length+1])\n",
    "inputs = [char_to_ix[ch] for ch in data[p:p+seq_length]]\n",
    "targets = [char_to_ix[ch] for ch in data[p+1:p+seq_length+1]]\n",
    "print (inputs)\n",
    "print (targets)\n"
   ]
  },
  {
   "cell_type": "code",
   "execution_count": 44,
   "metadata": {},
   "outputs": [
    {
     "ename": "NameError",
     "evalue": "name 'inputs' is not defined",
     "output_type": "error",
     "traceback": [
      "\u001b[0;31m---------------------------------------------------------------------------\u001b[0m",
      "\u001b[0;31mNameError\u001b[0m                                 Traceback (most recent call last)",
      "\u001b[0;32m<ipython-input-44-239259da9fd0>\u001b[0m in \u001b[0;36m<module>\u001b[0;34m()\u001b[0m\n\u001b[0;32m----> 1\u001b[0;31m \u001b[0mprint\u001b[0m\u001b[0;34m(\u001b[0m\u001b[0minputs\u001b[0m\u001b[0;34m)\u001b[0m\u001b[0;34m\u001b[0m\u001b[0m\n\u001b[0m",
      "\u001b[0;31mNameError\u001b[0m: name 'inputs' is not defined"
     ]
    }
   ],
   "source": [
    "print(inputs)"
   ]
  },
  {
   "cell_type": "code",
   "execution_count": null,
   "metadata": {},
   "outputs": [],
   "source": []
  }
 ],
 "metadata": {
  "kernelspec": {
   "display_name": "Python 3",
   "language": "python",
   "name": "python3"
  },
  "language_info": {
   "codemirror_mode": {
    "name": "ipython",
    "version": 3
   },
   "file_extension": ".py",
   "mimetype": "text/x-python",
   "name": "python",
   "nbconvert_exporter": "python",
   "pygments_lexer": "ipython3",
   "version": "3.6.5"
  }
 },
 "nbformat": 4,
 "nbformat_minor": 2
}
