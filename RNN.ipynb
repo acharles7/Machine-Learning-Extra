{
 "cells": [
  {
   "cell_type": "code",
   "execution_count": 19,
   "metadata": {},
   "outputs": [],
   "source": [
    "import numpy as np"
   ]
  },
  {
   "cell_type": "markdown",
   "metadata": {},
   "source": [
    "### Data I/O"
   ]
  },
  {
   "cell_type": "code",
   "execution_count": 20,
   "metadata": {},
   "outputs": [
    {
     "name": "stdout",
     "output_type": "stream",
     "text": [
      "['c', 's', 'k', 'h', 'o', 'M', 'L', 'u', 't', 'd', 'b', 'j', 'E', 'g', ' ', 'C', 'A', 'U', 'G', ']', ':', 'l', 'W', '\\n', '&', 'I', 'e', 'T', 'y', 'N', 'X', '[', \"'\", 'F', 'H', 'R', 'w', '-', 'x', 'r', 'O', 'K', '.', 'm', 'p', '$', 'a', ',', ';', 'V', 'i', '3', 'B', 'S', 'Z', 'q', 'n', 'f', 'P', 'Y', 'Q', 'v', '!', 'D', 'J', 'z', '?']\n",
      "4573338\n"
     ]
    }
   ],
   "source": [
    "data = open(\"shakespeare.txt\", \"r\").read()\n",
    "chars = list(set(data))\n",
    "print(chars)\n",
    "print(len(data))\n",
    "data_size, vocab_size = len(data), len(chars)\n",
    "char_to_ix = {ch:i for i, ch in enumerate(chars)}\n",
    "ix_to_char = {i:ch for i, ch in enumerate(chars)}"
   ]
  },
  {
   "cell_type": "markdown",
   "metadata": {},
   "source": [
    "### Hyperparameter"
   ]
  },
  {
   "cell_type": "code",
   "execution_count": 21,
   "metadata": {},
   "outputs": [],
   "source": [
    "hidden_size = 100\n",
    "seq_length = 25\n",
    "learning_rate = 1e-1"
   ]
  },
  {
   "cell_type": "markdown",
   "metadata": {},
   "source": [
    "### Model Parameter"
   ]
  },
  {
   "cell_type": "code",
   "execution_count": 22,
   "metadata": {},
   "outputs": [
    {
     "name": "stdout",
     "output_type": "stream",
     "text": [
      "(100, 67)\n",
      "(100, 100)\n",
      "(67, 100)\n"
     ]
    }
   ],
   "source": [
    "Wxh = np.random.randn(hidden_size, vocab_size) * 0.01\n",
    "Whh = np.random.randn(hidden_size, hidden_size) * 0.01\n",
    "Why = np.random.randn(vocab_size, hidden_size) * 0.01\n",
    "bh = np.zeros((hidden_size, 1))\n",
    "by = np.zeros((vocab_size, 1))\n",
    "print(Wxh.shape)\n",
    "print(Whh.shape)\n",
    "print(Why.shape)"
   ]
  },
  {
   "cell_type": "code",
   "execution_count": 23,
   "metadata": {},
   "outputs": [
    {
     "name": "stdout",
     "output_type": "stream",
     "text": [
      "First Citizen:\n",
      "Before we \n",
      "irst Citizen:\n",
      "Before we p\n",
      "[50, 39, 1, 8, 14, 15, 50, 8, 50, 65, 26, 56, 20, 23, 52, 26, 57, 4, 39, 26, 14, 36, 26, 14, 44]\n",
      "[33, 50, 39, 1, 8, 14, 15, 50, 8, 50, 65, 26, 56, 20, 23, 52, 26, 57, 4, 39, 26, 14, 36, 26, 14]\n"
     ]
    }
   ],
   "source": [
    "p = 0\n",
    "print(data[p:p+seq_length])\n",
    "print(data[p+1:p+seq_length+1])\n",
    "inputs = [char_to_ix[ch] for ch in data[p:p+seq_length]]\n",
    "targets = [char_to_ix[ch] for ch in data[p+1:p+seq_length+1]]\n",
    "hprev = np.zeros((hidden_size, 1))\n",
    "print(targets)\n",
    "print(inputs)\n"
   ]
  },
  {
   "cell_type": "code",
   "execution_count": 24,
   "metadata": {},
   "outputs": [
    {
     "name": "stdout",
     "output_type": "stream",
     "text": [
      "105.12318805251914\n"
     ]
    }
   ],
   "source": [
    "def lossFunction(inputs, targets, hprev):\n",
    "    xs, hs, ys, ps = {}, {}, {}, {}\n",
    "    loss = 0\n",
    "    hs[-1] = np.copy(hprev)\n",
    "    for t in range(len(inputs)):\n",
    "        xs[t] = np.zeros((vocab_size, 1))\n",
    "        xs[t][inputs[t]] = 1\n",
    "        hs[t] = np.tanh(np.dot(Whh, hs[t-1]) + np.dot(Wxh, xs[t]) + bh)\n",
    "        ys[t] = np.dot(Why, hs[t]) + by\n",
    "        ps[t] = np.exp(ys[t]) / np.sum(np.exp(ys[t]))\n",
    "        loss += -np.log(ps[t][targets[t], 0]) \n",
    "    return loss\n",
    "        \n",
    "        \n",
    "loss = lossFunction(inputs, targets, hprev)     \n",
    "print(loss)       "
   ]
  },
  {
   "cell_type": "markdown",
   "metadata": {},
   "source": [
    "### Back Propagation\n",
    "\n",
    "#### error = (Actual Output - Predicted Output)^2\n",
    "#### delta w = learning rate * (de/dw)\n",
    "#### W = w + delta w"
   ]
  },
  {
   "cell_type": "code",
   "execution_count": 30,
   "metadata": {},
   "outputs": [],
   "source": [
    "p = 0\n",
    "n = 0\n",
    "X = []\n",
    "Y = []\n",
    "while (n < 500000):\n",
    "    inputs = [char_to_ix[ch] for ch in data[p:p+seq_length]]\n",
    "    targets = [char_to_ix[ch] for ch in data[p+1:p+seq_length+1]]\n",
    "    X.append(inputs)\n",
    "    Y.append(targets)\n",
    "    p += seq_length\n",
    "    n += 1 "
   ]
  },
  {
   "cell_type": "code",
   "execution_count": 31,
   "metadata": {
    "scrolled": true
   },
   "outputs": [
    {
     "name": "stdout",
     "output_type": "stream",
     "text": [
      "500000\n",
      "500000\n"
     ]
    }
   ],
   "source": [
    "print(len(X))\n",
    "print(len(Y))"
   ]
  },
  {
   "cell_type": "code",
   "execution_count": 32,
   "metadata": {},
   "outputs": [],
   "source": [
    "import re\n",
    "with open('X.txt', 'w') as fx:\n",
    "    for item in X:\n",
    "        string = re.sub('[\\[\\]]','',repr(item))\n",
    "        fx.write(\"%s\\n\" % string)"
   ]
  },
  {
   "cell_type": "code",
   "execution_count": 33,
   "metadata": {},
   "outputs": [],
   "source": [
    "import re\n",
    "with open('Y.txt', 'w') as fy:\n",
    "    for item in Y:\n",
    "        string = re.sub('[\\[\\]]','',repr(item))\n",
    "        fy.write(\"%s\\n\" % string)"
   ]
  },
  {
   "cell_type": "code",
   "execution_count": null,
   "metadata": {},
   "outputs": [],
   "source": []
  }
 ],
 "metadata": {
  "kernelspec": {
   "display_name": "Python 3",
   "language": "python",
   "name": "python3"
  },
  "language_info": {
   "codemirror_mode": {
    "name": "ipython",
    "version": 3
   },
   "file_extension": ".py",
   "mimetype": "text/x-python",
   "name": "python",
   "nbconvert_exporter": "python",
   "pygments_lexer": "ipython3",
   "version": "3.6.5"
  }
 },
 "nbformat": 4,
 "nbformat_minor": 2
}
